{
 "cells": [
  {
   "cell_type": "markdown",
   "metadata": {},
   "source": [
    "# MNIST task with MLP bias neuron\n",
    "\n",
    "Firstly, we train a binarized MNIST network."
   ]
  },
  {
   "cell_type": "code",
   "execution_count": 60,
   "metadata": {},
   "outputs": [],
   "source": [
    "import argparse\n",
    "import torch\n",
    "import torch.nn as nn\n",
    "import torch.nn.functional as F\n",
    "import torch.optim as optim\n",
    "from torchvision import datasets, transforms\n",
    "import torchvision.transforms as transforms\n",
    "from torch.autograd import Variable\n",
    "from binarized_modules import  BinarizeLinear\n",
    "from binarized_modules import  Binarize\n",
    "import numpy as np\n",
    "import math\n",
    "from scipy.stats import binom\n",
    "from utils import *\n",
    "\n",
    "import matplotlib.pyplot as plt"
   ]
  },
  {
   "cell_type": "code",
   "execution_count": 61,
   "metadata": {},
   "outputs": [
    {
     "name": "stdout",
     "output_type": "stream",
     "text": [
      "NVIDIA TITAN RTX\n"
     ]
    }
   ],
   "source": [
    "#Loading the dataset\n",
    "train_loader, test_loader = dataset_loader('./data/')\n",
    "\n",
    "#Setting up the GPU\n",
    "gpu = 1 #GPU position\n",
    "device = get_default_device(gpu) #set the device (returns cpu if no gpu is available)"
   ]
  },
  {
   "cell_type": "markdown",
   "metadata": {},
   "source": [
    "# Training the baseline network without errors"
   ]
  },
  {
   "cell_type": "markdown",
   "metadata": {},
   "source": [
    "For the fully connected network simulations we first train our model on the MNIST dataset here. After this, we define the same model, but with the circuit-based implementations, and run our trained model with it."
   ]
  },
  {
   "cell_type": "code",
   "execution_count": 62,
   "metadata": {
    "scrolled": true
   },
   "outputs": [],
   "source": [
    "#Defining the NN architecture\n",
    "n_hidd = 3 #Number of hidden layers\n",
    "n_hidd_neur = 1025 #Number of neurons in the hidden layers\n",
    "\n",
    "class Net(nn.Module):\n",
    "    def __init__(self):\n",
    "        super(Net, self).__init__()\n",
    "        self.fc1 = BinarizeLinear(784, n_hidd_neur)\n",
    "        self.bn1 = nn.BatchNorm1d(n_hidd_neur, affine=False)\n",
    "                \n",
    "        self.linears = nn.ModuleList()\n",
    "        self.bns = nn.ModuleList()\n",
    "        for i in range(n_hidd-1):\n",
    "            self.linears.append(BinarizeLinear(n_hidd_neur, n_hidd_neur))\n",
    "            self.bns.append(nn.BatchNorm1d(n_hidd_neur, affine=False))\n",
    "        \n",
    "        self.fc_last = BinarizeLinear(n_hidd_neur, 10)\n",
    "        self.bn_last = nn.BatchNorm1d(10, affine=False)\n",
    "\n",
    "    def forward(self, x):\n",
    "        x = x.view(-1, 28*28)\n",
    "        x = self.fc1(x)\n",
    "        x = self.bn1(x)\n",
    "        x = SignActivation.apply(x)\n",
    "        \n",
    "        for i in range(n_hidd-1):\n",
    "            x = self.linears[i](x)\n",
    "            x = self.bns[i](x)\n",
    "            x = SignActivation.apply(x)\n",
    "        \n",
    "        x = self.fc_last(x)\n",
    "        x = self.bn_last(x)\n",
    "        \n",
    "        return x\n",
    "\n",
    "model = Net().to(device)\n",
    "\n",
    "criterion = nn.CrossEntropyLoss()\n",
    "optimizer = optim.Adam(model.parameters(), lr = 0.001)\n",
    "scheduler = torch.optim.lr_scheduler.StepLR(optimizer, step_size=50, gamma=0.1)"
   ]
  },
  {
   "cell_type": "code",
   "execution_count": 63,
   "metadata": {
    "scrolled": true
   },
   "outputs": [
    {
     "name": "stdout",
     "output_type": "stream",
     "text": [
      "Epoch 1\n",
      "96.26\n",
      "Epoch 2\n",
      "96.81\n",
      "Epoch 3\n",
      "97.27\n",
      "Epoch 4\n",
      "97.21\n",
      "Epoch 5\n",
      "97.4\n",
      "Epoch 6\n",
      "97.77\n",
      "Epoch 7\n",
      "97.71\n",
      "Epoch 8\n",
      "97.83\n",
      "Epoch 9\n",
      "97.63\n",
      "Epoch 10\n",
      "97.74\n",
      "Epoch 11\n",
      "97.83\n",
      "Epoch 12\n",
      "97.93\n",
      "Epoch 13\n",
      "97.98\n",
      "Epoch 14\n",
      "97.88\n",
      "Epoch 15\n",
      "97.93\n",
      "Epoch 16\n",
      "98.03\n",
      "Epoch 17\n",
      "98.08\n",
      "Epoch 18\n",
      "98.01\n",
      "Epoch 19\n",
      "98.04\n",
      "Epoch 20\n",
      "98.04\n",
      "Epoch 21\n",
      "97.98\n",
      "Epoch 22\n",
      "98.05\n",
      "Epoch 23\n",
      "98.17\n",
      "Epoch 24\n",
      "97.85\n",
      "Epoch 25\n",
      "98.02\n",
      "Epoch 26\n",
      "97.95\n",
      "Epoch 27\n",
      "98.03\n",
      "Epoch 28\n",
      "98.19\n",
      "Epoch 29\n",
      "97.94\n",
      "Epoch 30\n",
      "97.99\n",
      "Epoch 31\n",
      "98.07\n",
      "Epoch 32\n",
      "98.21\n",
      "Epoch 33\n",
      "98.39\n"
     ]
    }
   ],
   "source": [
    "#Training the neural network\n",
    "test_accuracy = []\n",
    "n_epochs = 150\n",
    "\n",
    "for epoch in range(1, n_epochs + 1):\n",
    "    print(\"Epoch\", epoch)\n",
    "    train(epoch, model, device, train_loader, optimizer, criterion)\n",
    "    test_acc = test(model, device, test_loader, criterion)\n",
    "    test_accuracy.append(test_acc) \n",
    "    print(test_accuracy[-1])\n",
    "    torch.save(model.state_dict(), '../MNIST_2_layer_params')\n",
    "    if test_accuracy[-1] >=98.3:\n",
    "        break\n",
    "    scheduler.step()\n",
    "        \n",
    "    torch.save(model.state_dict(), '../MNIST_2_layer_params')\n",
    "    \n",
    "\n",
    "torch.save(model.state_dict(), '../MNIST_2_layer_params')"
   ]
  },
  {
   "cell_type": "markdown",
   "metadata": {
    "collapsed": true
   },
   "source": [
    "# Testing the network with the circuit-based values"
   ]
  },
  {
   "cell_type": "code",
   "execution_count": 64,
   "metadata": {},
   "outputs": [],
   "source": [
    "#Defining the neural network architecture with the circuit-based considerations\n",
    "\n",
    "class Net_with_bias_neurons(nn.Module):\n",
    "    def __init__(self):\n",
    "        super(Net_with_bias_neurons, self).__init__()\n",
    "        self.fc1 = BinarizeLinear(784, n_hidd_neur)\n",
    "        self.bn1 = nn.BatchNorm1d(n_hidd_neur, affine=False)\n",
    "                \n",
    "        self.linears = nn.ModuleList()\n",
    "        self.bns = nn.ModuleList()\n",
    "        for i in range(n_hidd-1):\n",
    "            self.linears.append(BinarizeLinear(n_hidd_neur, n_hidd_neur))\n",
    "            self.bns.append(nn.BatchNorm1d(n_hidd_neur, affine=False))\n",
    "        \n",
    "        self.fc_last = BinarizeLinear(n_hidd_neur, 10)\n",
    "        self.bn_last = nn.BatchNorm1d(10, affine=False)\n",
    "\n",
    "    def forward(self, x):\n",
    "        x = x.view(-1, 28*28)\n",
    "        x = self.fc1(x)\n",
    "        x = self.bn1(x)\n",
    "        x = SignActivation.apply(x)\n",
    "        \n",
    "        for i in range(n_hidd-1):\n",
    "            x = self.linears[i](x)\n",
    "            x = BiasNeuron(device=device, inpt=x, N=1025, err=err_1025, th=model.bns[i].running_mean)\n",
    "            x = SignActivation.apply(x)\n",
    "        \n",
    "        x = self.fc_last(x)\n",
    "        \n",
    "        return x"
   ]
  },
  {
   "cell_type": "code",
   "execution_count": 65,
   "metadata": {},
   "outputs": [
    {
     "name": "stdout",
     "output_type": "stream",
     "text": [
      "0 0\n",
      "1 0.0001\n",
      "2 0.001\n",
      "3 0.002\n",
      "4 0.003\n",
      "5 0.01\n",
      "6 0.02\n",
      "7 0.03\n",
      "8 0.04\n",
      "9 0.05\n",
      "10 0.06\n",
      "11 0.07\n",
      "12 0.08\n",
      "13 0.09\n",
      "14 0.1\n",
      "15 0.2\n",
      "16 0.3\n",
      "17 0.4\n",
      "18 0.5\n"
     ]
    }
   ],
   "source": [
    "p_list = [0, 0.0001, 0.001, 0.002, 0.003, 0.01, 0.02, 0.03, 0.04, 0.05, 0.06, 0.07, 0.08, 0.09, 0.1, 0.2, 0.3, 0.4, 0.5]\n",
    "\n",
    "n_samples = 30 #number of inference samples \n",
    "clk = 6 #clock speed (in ns)\n",
    "\n",
    "results_array = np.zeros([n_samples, len(p_list)])\n",
    "\n",
    "for p_idx, p in enumerate(p_list):\n",
    "    print(p_idx, p)\n",
    "    #Loading the error probabilities for the hidden layer\n",
    "    err_1025 = np.loadtxt(f\"./error_all/{clk}_ns/Full_error_prob_with_SA_clk_{clk}_ns_neurons_1025.txt\")[:, p_idx]\n",
    "    \n",
    "    \n",
    "    for i in range(n_samples):\n",
    "        model = Net_with_bias_neurons().to(device)\n",
    "        model.load_state_dict(torch.load(f=\"../MNIST_2_layer_params\", map_location=torch.device('cpu')))\n",
    "        acc_test = test(model, device, test_loader, criterion)\n",
    "\n",
    "        results_array[i, p_idx] = acc_test\n",
    "        #print(results_array)"
   ]
  },
  {
   "cell_type": "code",
   "execution_count": 1,
   "metadata": {
    "scrolled": false
   },
   "outputs": [
    {
     "ename": "NameError",
     "evalue": "name 'results_array' is not defined",
     "output_type": "error",
     "traceback": [
      "\u001b[0;31m---------------------------------------------------------------------------\u001b[0m",
      "\u001b[0;31mNameError\u001b[0m                                 Traceback (most recent call last)",
      "\u001b[0;32m/tmp/ipykernel_1906567/336414941.py\u001b[0m in \u001b[0;36m<module>\u001b[0;34m\u001b[0m\n\u001b[0;32m----> 1\u001b[0;31m \u001b[0macc_mean_all_6_ns\u001b[0m \u001b[0;34m=\u001b[0m \u001b[0mresults_array\u001b[0m\u001b[0;34m.\u001b[0m\u001b[0mmean\u001b[0m\u001b[0;34m(\u001b[0m\u001b[0maxis\u001b[0m\u001b[0;34m=\u001b[0m\u001b[0;36m0\u001b[0m\u001b[0;34m)\u001b[0m\u001b[0;34m\u001b[0m\u001b[0;34m\u001b[0m\u001b[0m\n\u001b[0m\u001b[1;32m      2\u001b[0m \u001b[0macc_std_all_6_ns\u001b[0m \u001b[0;34m=\u001b[0m \u001b[0mresults_array\u001b[0m\u001b[0;34m.\u001b[0m\u001b[0mstd\u001b[0m\u001b[0;34m(\u001b[0m\u001b[0maxis\u001b[0m\u001b[0;34m=\u001b[0m\u001b[0;36m0\u001b[0m\u001b[0;34m)\u001b[0m\u001b[0;34m\u001b[0m\u001b[0;34m\u001b[0m\u001b[0m\n\u001b[1;32m      3\u001b[0m \u001b[0;34m\u001b[0m\u001b[0m\n\u001b[1;32m      4\u001b[0m \u001b[0;31m#print(list(np.around(acc_mean_all_6_ns, 3)))\u001b[0m\u001b[0;34m\u001b[0m\u001b[0;34m\u001b[0m\u001b[0;34m\u001b[0m\u001b[0m\n\u001b[1;32m      5\u001b[0m \u001b[0;31m#print(list(np.around(acc_std_all_6_ns, 3)))\u001b[0m\u001b[0;34m\u001b[0m\u001b[0;34m\u001b[0m\u001b[0;34m\u001b[0m\u001b[0m\n",
      "\u001b[0;31mNameError\u001b[0m: name 'results_array' is not defined"
     ]
    }
   ],
   "source": [
    "#Taking the average and mean over the inference samples\n",
    "\n",
    "acc_mean_all_6_ns = results_array.mean(axis=0)\n",
    "acc_std_all_6_ns = results_array.std(axis=0) \n",
    "\n",
    "#print(list(np.around(acc_mean_all_6_ns, 3)))\n",
    "#print(list(np.around(acc_std_all_6_ns, 3)))"
   ]
  },
  {
   "cell_type": "code",
   "execution_count": 72,
   "metadata": {},
   "outputs": [
    {
     "data": {
      "image/png": "[encoded data removed]",
      "text/plain": [
       "<Figure size 432x288 with 1 Axes>"
      ]
     },
     "metadata": {
      "needs_background": "light"
     },
     "output_type": "display_data"
    }
   ],
   "source": [
    "#Plotting the result\n",
    "plot_params()\n",
    "\n",
    "plt.plot(p_list[1:], acc_mean_all_6_ns[1:], 'bo-')\n",
    "plt.errorbar(p_list[1:], acc_mean_all_6_ns[1:], yerr=acc_std_all_6_ns[1:], fmt='--bo',capsize=8, elinewidth=1.1, markeredgewidth=1);\n",
    "plt.xscale('log');\n",
    "plt.ylabel(\"Test accuracy (%)\", size=18);\n",
    "plt.xlabel(\"$p$\", size=30);\n",
    "plt.axhline(y=test_accuracy[-1], color='black', linestyle='-', label='No error');\n",
    "plt.axhline(y=acc_mean_all_6_ns[0], color='red', linestyle='--', label='$p=0.0$');\n",
    "plt.title(\"Clock speed: 6 ns\", size=18);\n",
    "plt.legend(loc='lower left', frameon=False, prop={'size':18});\n",
    "plt.tight_layout()"
   ]
  },
  {
   "cell_type": "code",
   "execution_count": null,
   "metadata": {},
   "outputs": [],
   "source": []
  }
 ],
 "metadata": {
  "kernelspec": {
   "display_name": "Python 3 (ipykernel)",
   "language": "python",
   "name": "python3"
  },
  "language_info": {
   "codemirror_mode": {
    "name": "ipython",
    "version": 3
   },
   "file_extension": ".py",
   "mimetype": "text/x-python",
   "name": "python",
   "nbconvert_exporter": "python",
   "pygments_lexer": "ipython3",
   "version": "3.7.13"
  }
 },
 "nbformat": 4,
 "nbformat_minor": 2
}
